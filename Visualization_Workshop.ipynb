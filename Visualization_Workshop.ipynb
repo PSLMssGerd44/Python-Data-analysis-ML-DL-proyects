{
  "nbformat": 4,
  "nbformat_minor": 0,
  "metadata": {
    "colab": {
      "provenance": [],
      "include_colab_link": true
    },
    "kernelspec": {
      "name": "python3",
      "display_name": "Python 3"
    },
    "language_info": {
      "name": "python"
    }
  },
  "cells": [
    {
      "cell_type": "markdown",
      "metadata": {
        "id": "view-in-github",
        "colab_type": "text"
      },
      "source": [
        "<a href=\"https://colab.research.google.com/github/PSLMssGerd44/Works-/blob/main/Visualization_Workshop.ipynb\" target=\"_parent\"><img src=\"https://colab.research.google.com/assets/colab-badge.svg\" alt=\"Open In Colab\"/></a>"
      ]
    },
    {
      "cell_type": "code",
      "execution_count": null,
      "metadata": {
        "id": "W2FdV3W-EJXH"
      },
      "outputs": [],
      "source": [
        "import numpy as np\n",
        "import matplotlib.pyplot as plt\n",
        "import pandas as pd"
      ]
    },
    {
      "cell_type": "code",
      "source": [
        "!pip install mglearn\n",
        "import mglearn"
      ],
      "metadata": {
        "id": "AEmU1-YwEY9w",
        "outputId": "ca7b0225-3780-40fd-9154-db959ae3b8df",
        "colab": {
          "base_uri": "https://localhost:8080/"
        }
      },
      "execution_count": null,
      "outputs": [
        {
          "output_type": "stream",
          "name": "stdout",
          "text": [
            "Collecting mglearn\n",
            "  Downloading mglearn-0.1.9.tar.gz (540 kB)\n",
            "\u001b[?25l\r\u001b[K     |▋                               | 10 kB 17.5 MB/s eta 0:00:01\r\u001b[K     |█▏                              | 20 kB 8.6 MB/s eta 0:00:01\r\u001b[K     |█▉                              | 30 kB 7.6 MB/s eta 0:00:01\r\u001b[K     |██▍                             | 40 kB 7.1 MB/s eta 0:00:01\r\u001b[K     |███                             | 51 kB 4.3 MB/s eta 0:00:01\r\u001b[K     |███▋                            | 61 kB 5.1 MB/s eta 0:00:01\r\u001b[K     |████▎                           | 71 kB 5.2 MB/s eta 0:00:01\r\u001b[K     |████▉                           | 81 kB 4.2 MB/s eta 0:00:01\r\u001b[K     |█████▌                          | 92 kB 4.7 MB/s eta 0:00:01\r\u001b[K     |██████                          | 102 kB 5.1 MB/s eta 0:00:01\r\u001b[K     |██████▊                         | 112 kB 5.1 MB/s eta 0:00:01\r\u001b[K     |███████▎                        | 122 kB 5.1 MB/s eta 0:00:01\r\u001b[K     |███████▉                        | 133 kB 5.1 MB/s eta 0:00:01\r\u001b[K     |████████▌                       | 143 kB 5.1 MB/s eta 0:00:01\r\u001b[K     |█████████                       | 153 kB 5.1 MB/s eta 0:00:01\r\u001b[K     |█████████▊                      | 163 kB 5.1 MB/s eta 0:00:01\r\u001b[K     |██████████▎                     | 174 kB 5.1 MB/s eta 0:00:01\r\u001b[K     |███████████                     | 184 kB 5.1 MB/s eta 0:00:01\r\u001b[K     |███████████▌                    | 194 kB 5.1 MB/s eta 0:00:01\r\u001b[K     |████████████▏                   | 204 kB 5.1 MB/s eta 0:00:01\r\u001b[K     |████████████▊                   | 215 kB 5.1 MB/s eta 0:00:01\r\u001b[K     |█████████████▍                  | 225 kB 5.1 MB/s eta 0:00:01\r\u001b[K     |██████████████                  | 235 kB 5.1 MB/s eta 0:00:01\r\u001b[K     |██████████████▋                 | 245 kB 5.1 MB/s eta 0:00:01\r\u001b[K     |███████████████▏                | 256 kB 5.1 MB/s eta 0:00:01\r\u001b[K     |███████████████▊                | 266 kB 5.1 MB/s eta 0:00:01\r\u001b[K     |████████████████▍               | 276 kB 5.1 MB/s eta 0:00:01\r\u001b[K     |█████████████████               | 286 kB 5.1 MB/s eta 0:00:01\r\u001b[K     |█████████████████▋              | 296 kB 5.1 MB/s eta 0:00:01\r\u001b[K     |██████████████████▏             | 307 kB 5.1 MB/s eta 0:00:01\r\u001b[K     |██████████████████▉             | 317 kB 5.1 MB/s eta 0:00:01\r\u001b[K     |███████████████████▍            | 327 kB 5.1 MB/s eta 0:00:01\r\u001b[K     |████████████████████            | 337 kB 5.1 MB/s eta 0:00:01\r\u001b[K     |████████████████████▋           | 348 kB 5.1 MB/s eta 0:00:01\r\u001b[K     |█████████████████████▎          | 358 kB 5.1 MB/s eta 0:00:01\r\u001b[K     |█████████████████████▉          | 368 kB 5.1 MB/s eta 0:00:01\r\u001b[K     |██████████████████████▌         | 378 kB 5.1 MB/s eta 0:00:01\r\u001b[K     |███████████████████████         | 389 kB 5.1 MB/s eta 0:00:01\r\u001b[K     |███████████████████████▋        | 399 kB 5.1 MB/s eta 0:00:01\r\u001b[K     |████████████████████████▎       | 409 kB 5.1 MB/s eta 0:00:01\r\u001b[K     |████████████████████████▉       | 419 kB 5.1 MB/s eta 0:00:01\r\u001b[K     |█████████████████████████▌      | 430 kB 5.1 MB/s eta 0:00:01\r\u001b[K     |██████████████████████████      | 440 kB 5.1 MB/s eta 0:00:01\r\u001b[K     |██████████████████████████▊     | 450 kB 5.1 MB/s eta 0:00:01\r\u001b[K     |███████████████████████████▎    | 460 kB 5.1 MB/s eta 0:00:01\r\u001b[K     |████████████████████████████    | 471 kB 5.1 MB/s eta 0:00:01\r\u001b[K     |████████████████████████████▌   | 481 kB 5.1 MB/s eta 0:00:01\r\u001b[K     |█████████████████████████████▏  | 491 kB 5.1 MB/s eta 0:00:01\r\u001b[K     |█████████████████████████████▊  | 501 kB 5.1 MB/s eta 0:00:01\r\u001b[K     |██████████████████████████████▍ | 512 kB 5.1 MB/s eta 0:00:01\r\u001b[K     |███████████████████████████████ | 522 kB 5.1 MB/s eta 0:00:01\r\u001b[K     |███████████████████████████████▌| 532 kB 5.1 MB/s eta 0:00:01\r\u001b[K     |████████████████████████████████| 540 kB 5.1 MB/s \n",
            "\u001b[?25hRequirement already satisfied: numpy in /usr/local/lib/python3.7/dist-packages (from mglearn) (1.21.5)\n",
            "Requirement already satisfied: matplotlib in /usr/local/lib/python3.7/dist-packages (from mglearn) (3.2.2)\n",
            "Requirement already satisfied: scikit-learn in /usr/local/lib/python3.7/dist-packages (from mglearn) (1.0.2)\n",
            "Requirement already satisfied: pandas in /usr/local/lib/python3.7/dist-packages (from mglearn) (1.3.5)\n",
            "Requirement already satisfied: pillow in /usr/local/lib/python3.7/dist-packages (from mglearn) (7.1.2)\n",
            "Requirement already satisfied: cycler in /usr/local/lib/python3.7/dist-packages (from mglearn) (0.11.0)\n",
            "Requirement already satisfied: imageio in /usr/local/lib/python3.7/dist-packages (from mglearn) (2.4.1)\n",
            "Requirement already satisfied: joblib in /usr/local/lib/python3.7/dist-packages (from mglearn) (1.1.0)\n",
            "Requirement already satisfied: kiwisolver>=1.0.1 in /usr/local/lib/python3.7/dist-packages (from matplotlib->mglearn) (1.4.0)\n",
            "Requirement already satisfied: python-dateutil>=2.1 in /usr/local/lib/python3.7/dist-packages (from matplotlib->mglearn) (2.8.2)\n",
            "Requirement already satisfied: pyparsing!=2.0.4,!=2.1.2,!=2.1.6,>=2.0.1 in /usr/local/lib/python3.7/dist-packages (from matplotlib->mglearn) (3.0.7)\n",
            "Requirement already satisfied: typing-extensions in /usr/local/lib/python3.7/dist-packages (from kiwisolver>=1.0.1->matplotlib->mglearn) (3.10.0.2)\n",
            "Requirement already satisfied: six>=1.5 in /usr/local/lib/python3.7/dist-packages (from python-dateutil>=2.1->matplotlib->mglearn) (1.15.0)\n",
            "Requirement already satisfied: pytz>=2017.3 in /usr/local/lib/python3.7/dist-packages (from pandas->mglearn) (2018.9)\n",
            "Requirement already satisfied: threadpoolctl>=2.0.0 in /usr/local/lib/python3.7/dist-packages (from scikit-learn->mglearn) (3.1.0)\n",
            "Requirement already satisfied: scipy>=1.1.0 in /usr/local/lib/python3.7/dist-packages (from scikit-learn->mglearn) (1.4.1)\n",
            "Building wheels for collected packages: mglearn\n",
            "  Building wheel for mglearn (setup.py) ... \u001b[?25l\u001b[?25hdone\n",
            "  Created wheel for mglearn: filename=mglearn-0.1.9-py2.py3-none-any.whl size=582639 sha256=94bb0c422776f82538b0ee3ef6d245d24e1ed552dc99f84848bc6df45cd582c8\n",
            "  Stored in directory: /root/.cache/pip/wheels/f1/17/e1/1720d6dcd70187b6b6c3750cb3508798f2b1d57c9d3214b08b\n",
            "Successfully built mglearn\n",
            "Installing collected packages: mglearn\n",
            "Successfully installed mglearn-0.1.9\n"
          ]
        }
      ]
    },
    {
      "cell_type": "code",
      "source": [
        "# load_extended_boston\n",
        "X, y = mglearn.datasets.load_extended_boston()\n",
        "X.shape, y.shape"
      ],
      "metadata": {
        "id": "ov6KLG6WEaaH",
        "outputId": "d71da70a-c017-4b08-afcd-f8b2927916ad",
        "colab": {
          "base_uri": "https://localhost:8080/"
        }
      },
      "execution_count": null,
      "outputs": [
        {
          "output_type": "stream",
          "name": "stderr",
          "text": [
            "/usr/local/lib/python3.7/dist-packages/sklearn/utils/deprecation.py:87: FutureWarning: Function load_boston is deprecated; `load_boston` is deprecated in 1.0 and will be removed in 1.2.\n",
            "\n",
            "    The Boston housing prices dataset has an ethical problem. You can refer to\n",
            "    the documentation of this function for further details.\n",
            "\n",
            "    The scikit-learn maintainers therefore strongly discourage the use of this\n",
            "    dataset unless the purpose of the code is to study and educate about\n",
            "    ethical issues in data science and machine learning.\n",
            "\n",
            "    In this special case, you can fetch the dataset from the original\n",
            "    source::\n",
            "\n",
            "        import pandas as pd\n",
            "        import numpy as np\n",
            "\n",
            "\n",
            "        data_url = \"http://lib.stat.cmu.edu/datasets/boston\"\n",
            "        raw_df = pd.read_csv(data_url, sep=\"\\s+\", skiprows=22, header=None)\n",
            "        data = np.hstack([raw_df.values[::2, :], raw_df.values[1::2, :2]])\n",
            "        target = raw_df.values[1::2, 2]\n",
            "\n",
            "    Alternative datasets include the California housing dataset (i.e.\n",
            "    :func:`~sklearn.datasets.fetch_california_housing`) and the Ames housing\n",
            "    dataset. You can load the datasets as follows::\n",
            "\n",
            "        from sklearn.datasets import fetch_california_housing\n",
            "        housing = fetch_california_housing()\n",
            "\n",
            "    for the California housing dataset and::\n",
            "\n",
            "        from sklearn.datasets import fetch_openml\n",
            "        housing = fetch_openml(name=\"house_prices\", as_frame=True)\n",
            "\n",
            "    for the Ames housing dataset.\n",
            "    \n",
            "  warnings.warn(msg, category=FutureWarning)\n"
          ]
        },
        {
          "output_type": "execute_result",
          "data": {
            "text/plain": [
              "((506, 104), (506,))"
            ]
          },
          "metadata": {},
          "execution_count": 3
        }
      ]
    },
    {
      "cell_type": "code",
      "source": [
        "from sklearn.model_selection import train_test_split\n",
        "X_train, X_test, y_train, y_test = train_test_split(X, y, random_state=0)"
      ],
      "metadata": {
        "id": "v6u8hCvzEcrB"
      },
      "execution_count": null,
      "outputs": []
    },
    {
      "cell_type": "code",
      "source": [
        "from sklearn.linear_model import LinearRegression, Ridge, Lasso, ElasticNet\n",
        "from sklearn.svm import SVR\n",
        "from sklearn import metrics"
      ],
      "metadata": {
        "id": "F5MlTRpnEs_7"
      },
      "execution_count": null,
      "outputs": []
    },
    {
      "cell_type": "code",
      "source": [
        "models = [LinearRegression(), Ridge(), Lasso(), ElasticNet(), SVR(kernel='linear')]"
      ],
      "metadata": {
        "id": "-vab2ofCFBwZ"
      },
      "execution_count": null,
      "outputs": []
    },
    {
      "cell_type": "code",
      "source": [
        "for m in models:\n",
        "  m.fit(X_train,y_train)"
      ],
      "metadata": {
        "id": "2uK4HDbuFD0u"
      },
      "execution_count": null,
      "outputs": []
    },
    {
      "cell_type": "code",
      "source": [
        "labels = ['Regresión linear', 'Regresión Ridge alpha=1', 'Regresión Lasso alpha=1','Regresión ElasticNet alpha=1,rho=0.5','SVR C=1.0']\n",
        "for i,m in enumerate(models):\n",
        "  print('Model', labels[i])\n",
        "  print(\"Score train:\", m.score(X_train, y_train))\n",
        "  print(\"Score test:\",m.score(X_test, y_test))\n",
        "  y_pred = m.predict(X_test)\n",
        "  print(\"MAE\",metrics.mean_absolute_error(y_test,y_pred)/y_test.mean())\n",
        "  print(\"RMSE:\", metrics.mean_squared_error(y_test,y_pred)/y_test.mean())\n",
        "  print()"
      ],
      "metadata": {
        "colab": {
          "base_uri": "https://localhost:8080/"
        },
        "id": "p_lBp4cUFKdg",
        "outputId": "a9036778-f070-4a5c-f93c-705809f5f997"
      },
      "execution_count": null,
      "outputs": [
        {
          "output_type": "stream",
          "name": "stdout",
          "text": [
            "Model Regresión linear\n",
            "Score train: 0.9520519609032727\n",
            "Score test: 0.6074721959665571\n",
            "MAE 0.1446181269816706\n",
            "RMSE: 1.4376717005334618\n",
            "\n",
            "Model Regresión Ridge alpha=1\n",
            "Score train: 0.8857966585170941\n",
            "Score test: 0.7527683481744751\n",
            "MAE 0.13281865234138446\n",
            "RMSE: 0.9055102483273164\n",
            "\n",
            "Model Regresión Lasso alpha=1\n",
            "Score train: 0.29323768991114607\n",
            "Score test: 0.20937503255272294\n",
            "MAE 0.2460694432297761\n",
            "RMSE: 2.8957417277307007\n",
            "\n",
            "Model Regresión ElasticNet alpha=1,rho=0.5\n",
            "Score train: 0.32837814485847916\n",
            "Score test: 0.2217004367773664\n",
            "MAE 0.24537727527462072\n",
            "RMSE: 2.850598722141482\n",
            "\n",
            "Model SVR C=1.0\n",
            "Score train: 0.7967245647119241\n",
            "Score test: 0.6223564832985943\n",
            "MAE 0.15198116335589193\n",
            "RMSE: 1.383156533811526\n",
            "\n"
          ]
        }
      ]
    },
    {
      "cell_type": "code",
      "source": [
        "#Ridge\n",
        "model_select = [Ridge(alpha=0.1),Ridge(alpha=5)]\n",
        "for i,m in enumerate(model_select):\n",
        "  print('Ridge',i+1)\n",
        "  m.fit(X_train,y_train)\n",
        "  print(\"Score train:\", m.score(X_train, y_train))\n",
        "  print(\"Score test:\",m.score(X_test, y_test))\n",
        "  y_pred = m.predict(X_test)\n",
        "  print(\"MAE\",metrics.mean_absolute_error(y_test,y_pred)/y_test.mean())\n",
        "  print(\"RMSE:\", metrics.mean_squared_error(y_test,y_pred)/y_test.mean())\n",
        "  print()"
      ],
      "metadata": {
        "colab": {
          "base_uri": "https://localhost:8080/"
        },
        "id": "tfIIMMiuFO_A",
        "outputId": "d3ecdd8b-6c34-4bee-8427-272f9170e215"
      },
      "execution_count": null,
      "outputs": [
        {
          "output_type": "stream",
          "name": "stdout",
          "text": [
            "Ridge 1\n",
            "Score train: 0.928227368500199\n",
            "Score test: 0.7722067936479818\n",
            "MAE 0.13051808889945962\n",
            "RMSE: 0.8343150293582103\n",
            "\n",
            "Ridge 2\n",
            "Score train: 0.8223977022483581\n",
            "Score test: 0.6812572657432487\n",
            "MAE 0.1507960808444766\n",
            "RMSE: 1.1674266232425836\n",
            "\n"
          ]
        }
      ]
    },
    {
      "cell_type": "code",
      "source": [
        "## vemos que se va bajando y que hay un sobre entrenamiento; \n",
        "##está forzando a tener un menor residuo pero no da un \n",
        "##comportamiento altamente lineal"
      ],
      "metadata": {
        "id": "WfKeXuNLF8UV"
      },
      "execution_count": null,
      "outputs": []
    },
    {
      "cell_type": "code",
      "source": [
        "plt.figure(figsize=(5,5))\n",
        "plt.scatter(X[:,2],y)"
      ],
      "metadata": {
        "id": "2fWzfyv1GZ12",
        "colab": {
          "base_uri": "https://localhost:8080/",
          "height": 337
        },
        "outputId": "7e97d7b3-8361-4488-d111-73bdf15d9435"
      },
      "execution_count": null,
      "outputs": [
        {
          "output_type": "execute_result",
          "data": {
            "text/plain": [
              "<matplotlib.collections.PathCollection at 0x7fa80c700f50>"
            ]
          },
          "metadata": {},
          "execution_count": 11
        },
        {
          "output_type": "display_data",
          "data": {
            "text/plain": [
              "<Figure size 360x360 with 1 Axes>"
            ],
            "image/png": "[encoded data removed]"
          },
          "metadata": {
            "needs_background": "light"
          }
        }
      ]
    },
    {
      "cell_type": "code",
      "source": [
        "plt.figure(figsize=(5,5))\n",
        "plt.scatter(X[:,3],y)"
      ],
      "metadata": {
        "id": "IQdnUq8oGigg",
        "colab": {
          "base_uri": "https://localhost:8080/",
          "height": 337
        },
        "outputId": "0343f1d6-8317-4ed1-d28a-6ae9ef79fa22"
      },
      "execution_count": null,
      "outputs": [
        {
          "output_type": "execute_result",
          "data": {
            "text/plain": [
              "<matplotlib.collections.PathCollection at 0x7fa80c63ba90>"
            ]
          },
          "metadata": {},
          "execution_count": 12
        },
        {
          "output_type": "display_data",
          "data": {
            "text/plain": [
              "<Figure size 360x360 with 1 Axes>"
            ],
            "image/png": "[encoded data removed]"
          },
          "metadata": {
            "needs_background": "light"
          }
        }
      ]
    },
    {
      "cell_type": "code",
      "source": [
        "plt.figure(figsize=(5,5))\n",
        "plt.scatter(X[:,4],y)"
      ],
      "metadata": {
        "id": "7gCiZiQFGn_N",
        "colab": {
          "base_uri": "https://localhost:8080/",
          "height": 337
        },
        "outputId": "c5829ffb-8d89-4c95-f7a3-c7c5fe15780f"
      },
      "execution_count": null,
      "outputs": [
        {
          "output_type": "execute_result",
          "data": {
            "text/plain": [
              "<matplotlib.collections.PathCollection at 0x7fa80c160fd0>"
            ]
          },
          "metadata": {},
          "execution_count": 13
        },
        {
          "output_type": "display_data",
          "data": {
            "text/plain": [
              "<Figure size 360x360 with 1 Axes>"
            ],
            "image/png": "[encoded data removed]"
          },
          "metadata": {
            "needs_background": "light"
          }
        }
      ]
    },
    {
      "cell_type": "code",
      "source": [
        "plt.figure(figsize=(5,5))\n",
        "plt.scatter(X[:,5],y)"
      ],
      "metadata": {
        "id": "1ZwJvNnvGo1l",
        "colab": {
          "base_uri": "https://localhost:8080/",
          "height": 337
        },
        "outputId": "b605379a-49dd-47fc-b8ca-2422676cafaf"
      },
      "execution_count": null,
      "outputs": [
        {
          "output_type": "execute_result",
          "data": {
            "text/plain": [
              "<matplotlib.collections.PathCollection at 0x7fa80c0d10d0>"
            ]
          },
          "metadata": {},
          "execution_count": 14
        },
        {
          "output_type": "display_data",
          "data": {
            "text/plain": [
              "<Figure size 360x360 with 1 Axes>"
            ],
            "image/png": "[encoded data removed]"
          },
          "metadata": {
            "needs_background": "light"
          }
        }
      ]
    },
    {
      "cell_type": "code",
      "source": [
        "plt.figure(figsize=(5,5))\n",
        "plt.scatter(X[:,8],y)"
      ],
      "metadata": {
        "id": "9mT6xPwpGpXy",
        "colab": {
          "base_uri": "https://localhost:8080/",
          "height": 337
        },
        "outputId": "0c8ca468-bad2-42d3-ebba-366e217b96ed"
      },
      "execution_count": null,
      "outputs": [
        {
          "output_type": "execute_result",
          "data": {
            "text/plain": [
              "<matplotlib.collections.PathCollection at 0x7fa80c0b3fd0>"
            ]
          },
          "metadata": {},
          "execution_count": 15
        },
        {
          "output_type": "display_data",
          "data": {
            "text/plain": [
              "<Figure size 360x360 with 1 Axes>"
            ],
            "image/png": "[encoded data removed]"
          },
          "metadata": {
            "needs_background": "light"
          }
        }
      ]
    },
    {
      "cell_type": "code",
      "source": [
        "plt.figure(figsize=(5,5))\n",
        "plt.scatter(X[:,10],y)"
      ],
      "metadata": {
        "id": "5yIG8PO5Gp18",
        "colab": {
          "base_uri": "https://localhost:8080/",
          "height": 337
        },
        "outputId": "e09c352c-a92e-483d-f1ea-1c49536ff3bb"
      },
      "execution_count": null,
      "outputs": [
        {
          "output_type": "execute_result",
          "data": {
            "text/plain": [
              "<matplotlib.collections.PathCollection at 0x7fa80c02cf90>"
            ]
          },
          "metadata": {},
          "execution_count": 16
        },
        {
          "output_type": "display_data",
          "data": {
            "text/plain": [
              "<Figure size 360x360 with 1 Axes>"
            ],
            "image/png": "[encoded data removed]"
          },
          "metadata": {
            "needs_background": "light"
          }
        }
      ]
    },
    {
      "cell_type": "code",
      "source": [
        "## al ttratar de buscar un menor residuo termina haciendo un sobreentrenamiento "
      ],
      "metadata": {
        "id": "yJVcDCBWGyiJ"
      },
      "execution_count": null,
      "outputs": []
    },
    {
      "cell_type": "markdown",
      "source": [
        "GRIDSHARE"
      ],
      "metadata": {
        "id": "qyIXtGfOHWeP"
      }
    },
    {
      "cell_type": "code",
      "source": [
        "from sklearn.model_selection import train_test_split\n",
        "from sklearn.model_selection import GridSearchCV,RandomizedSearchCV\n",
        "from sklearn import metrics\n",
        "from sklearn.svm import SVR"
      ],
      "metadata": {
        "id": "4AAqhuvPH1gK"
      },
      "execution_count": null,
      "outputs": []
    },
    {
      "cell_type": "code",
      "source": [
        "X_train, X_test, y_train, y_test = train_test_split(X,y,random_state=3)"
      ],
      "metadata": {
        "id": "wGAC6IgvG6aY"
      },
      "execution_count": null,
      "outputs": []
    },
    {
      "cell_type": "code",
      "source": [
        "grid=[{'alpha':[0.1,1,10,100,1000],'l1_ratio':[0.1,0.3,0.6,0.9,0.99,0.999]}]\n",
        "gsearch=GridSearchCV(ElasticNet(),grid,scoring='r2',cv=5)\n",
        "gsearch.fit(X,y)\n",
        "gsearch.best_params_"
      ],
      "metadata": {
        "colab": {
          "base_uri": "https://localhost:8080/"
        },
        "id": "hp6esidRHjue",
        "outputId": "9e6b6d3b-a3cb-41ce-bc17-43be1dad300d"
      },
      "execution_count": null,
      "outputs": [
        {
          "output_type": "execute_result",
          "data": {
            "text/plain": [
              "{'alpha': 0.1, 'l1_ratio': 0.999}"
            ]
          },
          "metadata": {},
          "execution_count": 20
        }
      ]
    },
    {
      "cell_type": "code",
      "source": [
        "gsearch.best_score_"
      ],
      "metadata": {
        "colab": {
          "base_uri": "https://localhost:8080/"
        },
        "id": "aaOtVFfcHp7q",
        "outputId": "c2cac983-18c0-40f7-ac36-fb0a238d559d"
      },
      "execution_count": null,
      "outputs": [
        {
          "output_type": "execute_result",
          "data": {
            "text/plain": [
              "0.4485448960581365"
            ]
          },
          "metadata": {},
          "execution_count": 21
        }
      ]
    },
    {
      "cell_type": "code",
      "source": [
        "y_pred=gsearch.predict(X_test)"
      ],
      "metadata": {
        "id": "8RjQlIuzH7RH"
      },
      "execution_count": null,
      "outputs": []
    },
    {
      "cell_type": "markdown",
      "source": [
        "Ridge"
      ],
      "metadata": {
        "id": "7RNZfeV5Kdhi"
      }
    },
    {
      "cell_type": "code",
      "source": [
        "np.expand_dims(X, axis=0)"
      ],
      "metadata": {
        "colab": {
          "base_uri": "https://localhost:8080/"
        },
        "id": "6VEytyjvITCj",
        "outputId": "588ee33f-ab3b-4b24-9a12-49cd2ac3063a"
      },
      "execution_count": null,
      "outputs": [
        {
          "output_type": "execute_result",
          "data": {
            "text/plain": [
              "array([[[0.00000000e+00, 1.80000000e-01, 6.78152493e-02, ...,\n",
              "         1.00000000e+00, 8.96799117e-02, 8.04248656e-03],\n",
              "        [2.35922539e-04, 0.00000000e+00, 2.42302053e-01, ...,\n",
              "         1.00000000e+00, 2.04470199e-01, 4.18080621e-02],\n",
              "        [2.35697744e-04, 0.00000000e+00, 2.42302053e-01, ...,\n",
              "         9.79579831e-01, 6.28144504e-02, 4.02790570e-03],\n",
              "        ...,\n",
              "        [6.11892474e-04, 0.00000000e+00, 4.20454545e-01, ...,\n",
              "         1.00000000e+00, 1.07891832e-01, 1.16406475e-02],\n",
              "        [1.16072990e-03, 0.00000000e+00, 4.20454545e-01, ...,\n",
              "         9.82676920e-01, 1.29930407e-01, 1.71795127e-02],\n",
              "        [4.61841693e-04, 0.00000000e+00, 4.20454545e-01, ...,\n",
              "         1.00000000e+00, 1.69701987e-01, 2.87987643e-02]]])"
            ]
          },
          "metadata": {},
          "execution_count": 23
        }
      ]
    },
    {
      "cell_type": "code",
      "source": [
        "grid=[{'alpha':[0.01,0.1,1,10,100,1000]}]\n",
        "gsearch=GridSearchCV(Ridge(),grid,scoring='r2',cv=5)\n",
        "gsearch.fit(X_train,y_train)\n",
        "print(\"Los mejores params:\",gsearch.best_params_)\n",
        "print(\"Score train (best model):\",gsearch.best_score_)\n",
        "print(\"Score test (best model):\",gsearch.score(X_test,y_test))"
      ],
      "metadata": {
        "colab": {
          "base_uri": "https://localhost:8080/"
        },
        "id": "NjaN_jgcK3iN",
        "outputId": "e9e9d2fd-aff6-43dd-ccdf-2bca6e3dcd2b"
      },
      "execution_count": null,
      "outputs": [
        {
          "output_type": "stream",
          "name": "stdout",
          "text": [
            "Los mejores params: {'alpha': 0.1}\n",
            "Score train (best model): 0.8401627904098886\n",
            "Score test (best model): 0.8747828820979182\n"
          ]
        }
      ]
    },
    {
      "cell_type": "code",
      "source": [
        "grid=[{'kernel':['linear'],'C':[0.01,0.1,1,10,100,1000]},]\n",
        "gsearch=GridSearchCV(SVR(),grid,scoring='r2',cv=5)\n",
        "gsearch.fit(X_train,y_train)\n",
        "print(\"Los mejores params:\",gsearch.best_params_)\n",
        "print(\"Score train (best model):\",gsearch.best_score_)\n",
        "print(\"Score test (best model):\",gsearch.score(X_test,y_test))"
      ],
      "metadata": {
        "colab": {
          "base_uri": "https://localhost:8080/"
        },
        "id": "m6hAwoEkKqXv",
        "outputId": "e8f09c3b-0934-41e0-f381-e680916f4404"
      },
      "execution_count": null,
      "outputs": [
        {
          "output_type": "stream",
          "name": "stdout",
          "text": [
            "Los mejores params: {'C': 1000, 'kernel': 'linear'}\n",
            "Score train (best model): 0.8091961777951392\n",
            "Score test (best model): 0.8501499566418637\n"
          ]
        }
      ]
    },
    {
      "cell_type": "code",
      "source": [
        "grid=[{'kernel':['linear'],'C':[0.01,0.1,1,10,100,1000]},{'kernel':['rbf'],'C':[0.01,0.1,1,10,100,1000]}]\n",
        "gsearch=GridSearchCV(SVR(),grid,scoring='r2',cv=5)\n",
        "gsearch.fit(X_train,y_train)\n",
        "print(\"Los mejores params:\",gsearch.best_params_)\n",
        "print(\"Score train (best model):\",gsearch.best_score_)\n",
        "print(\"Score test (best model):\",gsearch.score(X_test,y_test))"
      ],
      "metadata": {
        "colab": {
          "base_uri": "https://localhost:8080/"
        },
        "id": "v-Ta-UyWK_Q_",
        "outputId": "cd476ad7-2975-4383-fe29-aaf6683bf0d7"
      },
      "execution_count": null,
      "outputs": [
        {
          "output_type": "stream",
          "name": "stdout",
          "text": [
            "Los mejores params: {'C': 100, 'kernel': 'rbf'}\n",
            "Score train (best model): 0.8639273205182366\n",
            "Score test (best model): 0.870693474133418\n"
          ]
        }
      ]
    },
    {
      "cell_type": "code",
      "source": [],
      "metadata": {
        "id": "lY2nhMdFLTJc"
      },
      "execution_count": null,
      "outputs": []
    }
  ]
}